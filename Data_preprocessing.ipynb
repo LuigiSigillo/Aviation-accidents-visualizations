{
  "nbformat": 4,
  "nbformat_minor": 0,
  "metadata": {
    "colab": {
      "name": "Data preprocessing.ipynb",
      "provenance": [],
      "collapsed_sections": [],
      "include_colab_link": true
    },
    "kernelspec": {
      "name": "python3",
      "display_name": "Python 3"
    }
  },
  "cells": [
    {
      "cell_type": "markdown",
      "metadata": {
        "id": "view-in-github",
        "colab_type": "text"
      },
      "source": [
        "<a href=\"https://colab.research.google.com/github/LuigiSigillo/Aviation-accidents-visualizations/blob/main/Data_preprocessing.ipynb\" target=\"_parent\"><img src=\"https://colab.research.google.com/assets/colab-badge.svg\" alt=\"Open In Colab\"/></a>"
      ]
    },
    {
      "cell_type": "markdown",
      "metadata": {
        "id": "qjUjLDVK2dr4"
      },
      "source": [
        "# Data preprocessing"
      ]
    },
    {
      "cell_type": "markdown",
      "metadata": {
        "id": "LW5yq-kz-oQe"
      },
      "source": [
        "before preprocessing"
      ]
    },
    {
      "cell_type": "code",
      "metadata": {
        "id": "4yhhmGZ22Gq6"
      },
      "source": [
        "import sys\n",
        "import time\n",
        "import os\n",
        "import pandas as pd\n",
        "from google.colab import drive\n",
        "\n",
        "drive.mount('/content/drive')\n",
        "#!unzip \"/content/drive/My Drive/AviationData.csv.zip\" -d \"/content/drive/My Drive/\"\n",
        "\n",
        "df = pd.read_csv(\"/content/drive/My Drive/AviationCrashLocation_3k.csv\", encoding='ISO-8859-1')\n",
        "df"
      ],
      "execution_count": null,
      "outputs": []
    },
    {
      "cell_type": "markdown",
      "metadata": {
        "id": "2ca-gMB7fDHC"
      },
      "source": [
        "# After preprocessing"
      ]
    },
    {
      "cell_type": "code",
      "metadata": {
        "id": "63oYr1DBOtEB"
      },
      "source": [
        "import numpy as np\n",
        "df = pd.read_csv(\"/content/drive/My Drive/AviationData.csv\", encoding='ISO-8859-1')\n",
        "\n",
        "#View the dataset\n",
        "print(\"1, intero\", df.shape, \"TOT = \", df.shape[0]*df.shape[1])\n",
        "\n",
        "\n",
        "\n",
        "df = df.drop(\n",
        "    columns=[\"Accident.Number\",\"Airport.Code\",\"Airport.Name\",\"Registration.Number\",\"Engine.Type\",\"FAR.Description\",\"Schedule\",\"Air.Carrier\",\"Report.Status\",\"Publication.Date\"]\n",
        ")\n",
        "print(\"2, senza colonne inutili\", df.shape, \"TOT = \", df.shape[0]*df.shape[1])\n",
        "\n",
        "\n",
        "\n",
        "print(\"__________________________________________\")\n",
        "df = df.drop(df[df[\"Investigation.Type\"] == \"Incident\"].index)\n",
        "df=df.drop(columns=[\"Investigation.Type\"])\n",
        "\n",
        "print(\"3, senza incidents\", df.shape, \"TOT = \", df.shape[0]*df.shape[1])\n",
        "\n",
        "\n",
        "\n",
        "print(\"__________________________________________\")\n",
        "df = df[df[\"Latitude\"].notnull()]\n",
        "df = df[df[\"Longitude\"].notnull()]\n",
        "\n",
        "print(\"4, solo coordinate\", df.shape, \"TOT = \", df.shape[0]*df.shape[1])\n",
        "\n",
        "\n",
        "print(\"__________________________________________\")\n",
        "## Da mettere solo quelli con fatal (#num morti) o non fatal\n",
        "patternDel = \".*Fatal.*\"\n",
        "filter = df[\"Injury.Severity\"].str.contains(patternDel)\n",
        "df = df[filter]\n",
        "\n",
        "print(\"5, solo severity\", df.shape, \"TOT = \", df.shape[0]*df.shape[1])\n",
        "\n",
        "\n",
        "print(\"__________________________________________\")\n",
        "df = df[df[\"Aircraft.Damage\"].notnull()]\n",
        "print(\"6, solo damage\", df.shape, \"TOT = \", df.shape[0]*df.shape[1])\n",
        "df=df.drop(columns=[\"Aircraft.Category\"])\n",
        "\n",
        "'''\n",
        "print(\"__________________________________________\")\n",
        "df = df[df[\"Aircraft.Category\"]==\"Airplane\"]\n",
        "\n",
        "print(\"7, solo airplane\", df.shape, \"TOT = \", df.shape[0]*df.shape[1])\n",
        "\n",
        "print(\"__________________________________________\")\n",
        "df = df[df[\"Amateur.Built\"]==\"No\"]\n",
        "\n",
        "print(\"8, solo non amatoriali\", df.shape, \"TOT = \", df.shape[0]*df.shape[1])\n",
        "'''\n",
        "df=df.drop(columns=[\"Amateur.Built\"])\n",
        "print(\"__________________________________________\")\n",
        "df = df[df[\"Purpose.of.Flight\"].notnull()]\n",
        "df = df[df[\"Purpose.of.Flight\"]!=\"Unknown\"]\n",
        "print(\"9, solo con purpose\", df.shape, \"TOT = \", df.shape[0]*df.shape[1])\n",
        "\n",
        "print(\"__________________________________________\")\n",
        "df = df.dropna(subset=['Total.Fatal.Injuries','Total.Serious.Injuries'], how='all')\n",
        "print(\"10, tutti NAN a casa\", df.shape, \"TOT = \", df.shape[0]*df.shape[1])\n",
        "\n",
        "\n",
        "print(\"__________________________________________\")\n",
        "df = df[df[\"Weather.Condition\"].notnull()]\n",
        "print(\"11, solo con wether\", df.shape, \"TOT = \", df.shape[0]*df.shape[1])\n",
        "\n",
        "print(\"__________________________________________\")\n",
        "df = df[df[\"Broad.Phase.of.Flight\"].notnull()]\n",
        "print(\"12, solo board phase\", df.shape, \"TOT = \", df.shape[0]*df.shape[1])\n",
        "\n",
        "\n",
        "print(\"__________________________________________\")\n",
        "df = df[df[\"Number.of.Engines\"].notnull()]\n",
        "df=df.drop(columns=[\"Number.of.Engines\"])\n",
        "\n",
        "print(\"13, solo motore\", df.shape, \"TOT = \", df.shape[0]*df.shape[1])\n",
        "\n",
        "\n",
        "print(\"__________________________________________\")\n",
        "df = df[df[\"Model\"].notnull()]\n",
        "df = df[df[\"Make\"].notnull()]\n",
        "print(\"14, not nan make e model\", df.shape, \"TOT = \", df.shape[0]*(df.shape[1]-3))\n",
        "\n",
        "\n",
        "\n",
        "print(\"__________________________________________\")\n",
        "df =  df.drop(df[df[\"Country\"] != \"United States\"].index)\n",
        "df=df.drop(columns=[\"Country\"])\n",
        "print(\"15, only USA\", df.shape, \"TOT = \", df.shape[0]*(df.shape[1]-3))\n",
        "\n",
        "\n",
        "\n",
        "df=df.drop(columns=[\"Injury.Severity\"])\n",
        "df=df.drop(columns=[\"Model\"])\n",
        "df[\"Crash.Location\"] = df[\"Latitude\"].astype(str) + \",\" + df[\"Longitude\"].astype(str) \n",
        "df=df.drop(columns=[\"Latitude\"])\n",
        "df=df.drop(columns=[\"Longitude\"])\n",
        "df['Total.Fatal.Injuries'] = df['Total.Fatal.Injuries'].fillna(0)\n",
        "df = df.fillna(0)\n",
        "\n",
        "\n",
        "\"\"\"\n",
        "print(\"__________________________________________\")\n",
        "df = df.drop(df[df[\"Injury.Severity\"] == \"Non-Fatal\"].index)\n",
        "df = df.drop(df[df[\"Injury.Severity\"] == \"Unavailable\"].index)\n",
        "print(\"16, solo fatali\", df.shape, \"TOT = \", df.shape[0]*df.shape[1]-3)\n",
        "print(df.head())\n",
        "\"\"\"\n",
        "\"\"\"\n",
        "print(\"__________________________________________\")\n",
        "df = df.drop(df[df[\"Event.Date\"] < \"2015-01-01\"].index)\n",
        "df = df.drop(df[df[\"Injury.Severity\"] == \"Unavailable\"].index)\n",
        "print(\"4, dal 2000 in poi\", df.shape, \"TOT = \", df.shape[0]*(df.shape[1]-3))\n",
        "print(df.head())\n",
        "\"\"\"\n",
        "\n",
        "\n",
        "print(\"TOT = \", df.shape[0]*(df.shape[1]))\n",
        "#df.to_csv(r'/content/drive/My Drive/Aviation cleaned.csv', index = False)\n",
        "df.describe()\n",
        "df"
      ],
      "execution_count": null,
      "outputs": []
    },
    {
      "cell_type": "markdown",
      "metadata": {
        "id": "MEz1Gx4GehBa"
      },
      "source": [
        "# Coordinates to Country"
      ]
    },
    {
      "cell_type": "code",
      "metadata": {
        "id": "4qMneJVbendV"
      },
      "source": [
        "import requests\n",
        "from bs4 import BeautifulSoup\n",
        "apiurl = \"http://api.geonames.org/countrySubdivision?\"\n",
        "#lat=42.561944&lng=-71.77166700000001&username=LENZA\n",
        "lat = \"&lat=\"\n",
        "lng = \"&lng=\"\n",
        "user = \"&username=LENZA\"\n",
        "\n",
        "\n",
        "\n",
        "\n",
        "for index, row in df.iterrows():\n",
        "    latlng = row['Crash.Location']\n",
        "\n",
        "    print(str(index) + \" | \" + row['Crash.Location'])\n",
        "    # index -> indice di riga\n",
        "    # row['Crash.Location'] -> latitudine,longitudine\n",
        "    latitude = latlng.split(\",\")[0]\n",
        "    longitude = latlng.split(\",\")[1]\n",
        "    #print(latitude + \" | \" + longitude)\n",
        "    r = requests.get(apiurl + lat + latitude + lng + longitude + user)\n",
        "    print(r)\n",
        "    soup = BeautifulSoup(r.content, 'html.parser')\n",
        "    #print(soup.prettify())\n",
        "    try:\n",
        "        print(soup.adminname1.string)\n",
        "        df.loc[index, 'Crash.Country'] = soup.adminname1.string\n",
        "    except:\n",
        "        df.loc[index, 'Crash.Country'] = \"Unknown\"\n",
        "    #df[index]['Crash.Country'] = soup.adminname1.string\n",
        "    \n",
        "\n",
        "df\n"
      ],
      "execution_count": null,
      "outputs": []
    },
    {
      "cell_type": "code",
      "metadata": {
        "id": "lnljWrlblvEd"
      },
      "source": [
        "df"
      ],
      "execution_count": null,
      "outputs": []
    },
    {
      "cell_type": "code",
      "metadata": {
        "id": "ldMgCDzSvOlc"
      },
      "source": [
        "print(\"TOT = \", df.shape[0]*(df.shape[1]))\n",
        "df.to_csv(r'/content/drive/My Drive/AviationCrashLocation_new.csv', index = False)\n",
        "df.describe()\n",
        "df"
      ],
      "execution_count": null,
      "outputs": []
    },
    {
      "cell_type": "markdown",
      "metadata": {
        "id": "YDoCXIuT531U"
      },
      "source": [
        "# Aggregation"
      ]
    },
    {
      "cell_type": "markdown",
      "metadata": {
        "id": "6gW1-g90M_qS"
      },
      "source": [
        "## Aggregate per State"
      ]
    },
    {
      "cell_type": "code",
      "metadata": {
        "id": "VGCeO_P96CwN"
      },
      "source": [
        "'''\n",
        "per ogni stato serve\n",
        "Incidents -> entries per stato\n",
        "Total.Fatal.Injuries\n",
        "Total.Serious.Injuries\t\n",
        "Total.Minor.Injuries\n",
        "Total.Uninjured\n",
        "Weather.Condition\n",
        "Aircraft.Damage\n",
        "Broad.Phase.of.Flight\n",
        "Make\n",
        "Months\n",
        "Distance\n",
        "'''\n",
        "df = pd.read_csv(\"/content/drive/My Drive/AviationCrashLocation_3k.csv\", encoding='ISO-8859-1')\n",
        "not_usa=[\"Zhambyl\",\"Xinjiang\",\"Qinghai\",\"Inner Mongolia\",\"CaquetÃ¡\",\"Lajas\",\"Tibet\",\"Sonora\",\"Dorado\"]\n",
        "porto_rico = [\"Morovis\",\"San Juan\",\"Arecibo\",\"Adjuntas\"]\n",
        "df['Crash.Country'].replace(not_usa, 'Unknown',inplace=True)\n",
        "df['Crash.Country'].replace(porto_rico, 'Puerto Rico', inplace=True)\n",
        "df['Crash.Country'].replace([\"Saint Croix Island\"], 'Virgin Islands of the United States',inplace=True)\n",
        "\n",
        "groups = df.groupby(by='Crash.Country')\n",
        "groups.groups\n",
        "final_dict = {}\n",
        "for group in groups.groups:\n",
        "    final_dict[group] = {}\n",
        "    final_dict[group]['Incidents'] = len(groups.groups[group])\n",
        "    final_dict[group]['Total.Fatal.Injuries'] = 0\n",
        "    final_dict[group]['Total.Serious.Injuries'] = 0\n",
        "    final_dict[group]['Total.Minor.Injuries'] = 0\n",
        "    final_dict[group]['Total.Uninjured'] = 0\n",
        "    final_dict[group]['Weather.Condition'] = {}\n",
        "    final_dict[group]['Aircraft.Damage'] = {}\n",
        "    final_dict[group]['Broad.Phase.of.Flight'] = {}\n",
        "    final_dict[group]['Make'] = {}\n",
        "    final_dict[group]['Month'] = {}\n",
        "\n",
        "    for index in groups.groups[group]:\n",
        "        final_dict[group]['Total.Fatal.Injuries'] += df['Total.Fatal.Injuries'][index]\n",
        "        final_dict[group]['Total.Serious.Injuries'] += df['Total.Serious.Injuries'][index]\n",
        "        final_dict[group]['Total.Minor.Injuries'] += df['Total.Minor.Injuries'][index]\n",
        "        final_dict[group]['Total.Uninjured'] += df['Total.Uninjured'][index]\n",
        "        try:\n",
        "            final_dict[group]['Weather.Condition'][df['Weather.Condition'][index]] += 1\n",
        "        except:\n",
        "            final_dict[group]['Weather.Condition'][df['Weather.Condition'][index]] = 1\n",
        "\n",
        "        try:\n",
        "            final_dict[group]['Aircraft.Damage'][df['Aircraft.Damage'][index]] += 1\n",
        "        except:\n",
        "            final_dict[group]['Aircraft.Damage'][df['Aircraft.Damage'][index]] = 1\n",
        "\n",
        "        try:\n",
        "            final_dict[group]['Broad.Phase.of.Flight'][df['Broad.Phase.of.Flight'][index]] += 1\n",
        "        except:\n",
        "            final_dict[group]['Broad.Phase.of.Flight'][df['Broad.Phase.of.Flight'][index]] = 1\n",
        "        \n",
        "        try:\n",
        "            final_dict[group]['Make'][df['Make'][index].lower()] += 1\n",
        "        except:\n",
        "            final_dict[group]['Make'][df['Make'][index].lower()] = 1\n",
        "\n",
        "        try:\n",
        "            final_dict[group]['Month'][df['Event.Date'][index].split('-')[1]] += 1\n",
        "        except:\n",
        "            final_dict[group]['Month'][df['Event.Date'][index].split('-')[1]] = 1\n",
        "\n",
        "\n",
        "print(str(final_dict))"
      ],
      "execution_count": null,
      "outputs": []
    },
    {
      "cell_type": "code",
      "metadata": {
        "id": "cFa7neuDLvGS"
      },
      "source": [
        "import json\n",
        "with open(\"/content/drive/My Drive/aggregated_state.json\", \"w\") as write_file:\n",
        "    json.dump(final_dict, write_file, indent=4)"
      ],
      "execution_count": null,
      "outputs": []
    },
    {
      "cell_type": "code",
      "metadata": {
        "id": "AGmtN8yRhjrW"
      },
      "source": [
        "df = pd.read_json('/content/drive/My Drive/aggregated_state.json')\n",
        "df"
      ],
      "execution_count": null,
      "outputs": []
    },
    {
      "cell_type": "markdown",
      "metadata": {
        "id": "ASCW1htbNMuM"
      },
      "source": [
        "## Aggregate per Make"
      ]
    },
    {
      "cell_type": "code",
      "metadata": {
        "id": "NLqk2CesNRAy"
      },
      "source": [
        "'''\n",
        "per ogni stato serve\n",
        "Incidents -> entries per stato\n",
        "Total.Fatal.Injuries\n",
        "Total.Serious.Injuries\t\n",
        "Total.Minor.Injuries\n",
        "Total.Uninjured\n",
        "Weather.Condition\n",
        "Aircraft.Damage\n",
        "Broad.Phase.of.Flight\n",
        "Make\n",
        "Months\n",
        "Distance\n",
        "'''\n",
        "#df.apply(lambda x: x['Make'].astype(str).str.lower())\n",
        "df = pd.read_csv(\"/content/drive/My Drive/AviationCrashLocation.csv\", encoding='ISO-8859-1')\n",
        "groups = df.groupby(df['Make'].str.lower())\n",
        "final_dict = {}\n",
        "for group in groups.groups:\n",
        "    final_dict[group] = {}\n",
        "    final_dict[group]['Incidents'] = len(groups.groups[group])\n",
        "    final_dict[group]['Total.Fatal.Injuries'] = 0\n",
        "    final_dict[group]['Total.Serious.Injuries'] = 0\n",
        "    final_dict[group]['Total.Minor.Injuries'] = 0\n",
        "    final_dict[group]['Total.Uninjured'] = 0\n",
        "    final_dict[group]['Weather.Condition'] = {}\n",
        "    final_dict[group]['Aircraft.Damage'] = {}\n",
        "    final_dict[group]['Broad.Phase.of.Flight'] = {}\n",
        "    final_dict[group]['Crash.Country'] = {}\n",
        "    final_dict[group]['Month'] = {}\n",
        "\n",
        "    for index in groups.groups[group]:\n",
        "        final_dict[group]['Total.Fatal.Injuries'] += df['Total.Fatal.Injuries'][index]\n",
        "        final_dict[group]['Total.Serious.Injuries'] += df['Total.Serious.Injuries'][index]\n",
        "        final_dict[group]['Total.Minor.Injuries'] += df['Total.Minor.Injuries'][index]\n",
        "        final_dict[group]['Total.Uninjured'] += df['Total.Uninjured'][index]\n",
        "        try:\n",
        "            final_dict[group]['Weather.Condition'][df['Weather.Condition'][index]] += 1\n",
        "        except:\n",
        "            final_dict[group]['Weather.Condition'][df['Weather.Condition'][index]] = 1\n",
        "\n",
        "        try:\n",
        "            final_dict[group]['Aircraft.Damage'][df['Aircraft.Damage'][index]] += 1\n",
        "        except:\n",
        "            final_dict[group]['Aircraft.Damage'][df['Aircraft.Damage'][index]] = 1\n",
        "\n",
        "        try:\n",
        "            final_dict[group]['Broad.Phase.of.Flight'][df['Broad.Phase.of.Flight'][index]] += 1\n",
        "        except:\n",
        "            final_dict[group]['Broad.Phase.of.Flight'][df['Broad.Phase.of.Flight'][index]] = 1\n",
        "        \n",
        "        try:\n",
        "            final_dict[group]['Crash.Country'][df['Crash.Country'][index]] += 1\n",
        "        except:\n",
        "            final_dict[group]['Crash.Country'][df['Crash.Country'][index]] = 1\n",
        "\n",
        "        try:\n",
        "            final_dict[group]['Month'][df['Event.Date'][index].split('-')[1]] += 1\n",
        "        except:\n",
        "            final_dict[group]['Month'][df['Event.Date'][index].split('-')[1]] = 1\n",
        "\n",
        "\n",
        "print(str(final_dict))"
      ],
      "execution_count": null,
      "outputs": []
    },
    {
      "cell_type": "code",
      "metadata": {
        "id": "ESKnsrvVNdfK"
      },
      "source": [
        "import json\n",
        "with open(\"/content/drive/My Drive/aggregated_make.json\", \"w\") as write_file:\n",
        "    json.dump(final_dict, write_file, indent=4)"
      ],
      "execution_count": null,
      "outputs": []
    },
    {
      "cell_type": "markdown",
      "metadata": {
        "id": "HX1lR4ZuPnUT"
      },
      "source": [
        "## Aggregate per month"
      ]
    },
    {
      "cell_type": "code",
      "metadata": {
        "id": "Cyn5021ESwBT"
      },
      "source": [
        ""
      ],
      "execution_count": null,
      "outputs": []
    },
    {
      "cell_type": "code",
      "metadata": {
        "id": "pKjEJz17PxKB"
      },
      "source": [
        "'''\n",
        "per ogni stato serve\n",
        "Incidents -> entries per stato\n",
        "Total.Fatal.Injuries\n",
        "Total.Serious.Injuries\t\n",
        "Total.Minor.Injuries\n",
        "Total.Uninjured\n",
        "Weather.Condition\n",
        "Aircraft.Damage\n",
        "Broad.Phase.of.Flight\n",
        "Make\n",
        "Months\n",
        "Distance\n",
        "'''\n",
        "#df.apply(lambda x: x['Make'].astype(str).str.lower())\n",
        "df = pd.read_csv(\"/content/drive/My Drive/AviationCrashLocation.csv\", encoding='ISO-8859-1')\n",
        "for i, row in df.iterrows():\n",
        "    df.at[i,'Event.Date'] = df.at[i,'Event.Date'].split('-')[1]\n",
        "groups = df.groupby(by='Event.Date')\n",
        "final_dict = {}\n",
        "for group in groups.groups:\n",
        "    final_dict[group] = {}\n",
        "    final_dict[group]['Incidents'] = len(groups.groups[group])\n",
        "    final_dict[group]['Total.Fatal.Injuries'] = 0\n",
        "    final_dict[group]['Total.Serious.Injuries'] = 0\n",
        "    final_dict[group]['Total.Minor.Injuries'] = 0\n",
        "    final_dict[group]['Total.Uninjured'] = 0\n",
        "    final_dict[group]['Weather.Condition'] = {}\n",
        "    final_dict[group]['Aircraft.Damage'] = {}\n",
        "    final_dict[group]['Broad.Phase.of.Flight'] = {}\n",
        "    final_dict[group]['Crash.Country'] = {}\n",
        "    final_dict[group]['Make'] = {}\n",
        "\n",
        "    for index in groups.groups[group]:\n",
        "        final_dict[group]['Total.Fatal.Injuries'] += df['Total.Fatal.Injuries'][index]\n",
        "        final_dict[group]['Total.Serious.Injuries'] += df['Total.Serious.Injuries'][index]\n",
        "        final_dict[group]['Total.Minor.Injuries'] += df['Total.Minor.Injuries'][index]\n",
        "        final_dict[group]['Total.Uninjured'] += df['Total.Uninjured'][index]\n",
        "        try:\n",
        "            final_dict[group]['Weather.Condition'][df['Weather.Condition'][index]] += 1\n",
        "        except:\n",
        "            final_dict[group]['Weather.Condition'][df['Weather.Condition'][index]] = 1\n",
        "\n",
        "        try:\n",
        "            final_dict[group]['Aircraft.Damage'][df['Aircraft.Damage'][index]] += 1\n",
        "        except:\n",
        "            final_dict[group]['Aircraft.Damage'][df['Aircraft.Damage'][index]] = 1\n",
        "\n",
        "        try:\n",
        "            final_dict[group]['Broad.Phase.of.Flight'][df['Broad.Phase.of.Flight'][index]] += 1\n",
        "        except:\n",
        "            final_dict[group]['Broad.Phase.of.Flight'][df['Broad.Phase.of.Flight'][index]] = 1\n",
        "        \n",
        "        try:\n",
        "            final_dict[group]['Crash.Country'][df['Crash.Country'][index]] += 1\n",
        "        except:\n",
        "            final_dict[group]['Crash.Country'][df['Crash.Country'][index]] = 1\n",
        "\n",
        "        try:\n",
        "            final_dict[group]['Make'][df['Make'][index].lower()] += 1\n",
        "        except:\n",
        "            final_dict[group]['Make'][df['Make'][index].lower()] = 1\n",
        "\n",
        "\n",
        "print(str(final_dict))"
      ],
      "execution_count": null,
      "outputs": []
    },
    {
      "cell_type": "code",
      "metadata": {
        "id": "yTM2WmMOUifx"
      },
      "source": [
        "import json\n",
        "with open(\"/content/drive/My Drive/aggregated_month.json\", \"w\") as write_file:\n",
        "    json.dump(final_dict, write_file, indent=4)"
      ],
      "execution_count": null,
      "outputs": []
    },
    {
      "cell_type": "code",
      "metadata": {
        "id": "bZ2yxVljVCB0"
      },
      "source": [
        "!ls '/content/drive/My Drive/' | grep aggregated"
      ],
      "execution_count": null,
      "outputs": []
    },
    {
      "cell_type": "markdown",
      "metadata": {
        "id": "ZhyXzKeGVVrX"
      },
      "source": [
        "## Aggregate by Phase"
      ]
    },
    {
      "cell_type": "code",
      "metadata": {
        "id": "fACez-a1VYJJ"
      },
      "source": [
        "'''\n",
        "per ogni stato serve\n",
        "Incidents -> entries per stato\n",
        "Total.Fatal.Injuries\n",
        "Total.Serious.Injuries\t\n",
        "Total.Minor.Injuries\n",
        "Total.Uninjured\n",
        "Weather.Condition\n",
        "Aircraft.Damage\n",
        "Broad.Phase.of.Flight\n",
        "Make\n",
        "Months\n",
        "Distance\n",
        "'''\n",
        "#df.apply(lambda x: x['Make'].astype(str).str.lower())\n",
        "df = pd.read_csv(\"/content/drive/My Drive/AviationCrashLocation.csv\", encoding='ISO-8859-1')\n",
        "groups = df.groupby(df['Broad.Phase.of.Flight'].str.upper())\n",
        "final_dict = {}\n",
        "for group in groups.groups:\n",
        "    final_dict[group] = {}\n",
        "    final_dict[group]['Incidents'] = len(groups.groups[group])\n",
        "    final_dict[group]['Total.Fatal.Injuries'] = 0\n",
        "    final_dict[group]['Total.Serious.Injuries'] = 0\n",
        "    final_dict[group]['Total.Minor.Injuries'] = 0\n",
        "    final_dict[group]['Total.Uninjured'] = 0\n",
        "    final_dict[group]['Weather.Condition'] = {}\n",
        "    final_dict[group]['Aircraft.Damage'] = {}\n",
        "    final_dict[group]['Make'] = {}\n",
        "    final_dict[group]['Crash.Country'] = {}\n",
        "    final_dict[group]['Month'] = {}\n",
        "\n",
        "    for index in groups.groups[group]:\n",
        "        final_dict[group]['Total.Fatal.Injuries'] += df['Total.Fatal.Injuries'][index]\n",
        "        final_dict[group]['Total.Serious.Injuries'] += df['Total.Serious.Injuries'][index]\n",
        "        final_dict[group]['Total.Minor.Injuries'] += df['Total.Minor.Injuries'][index]\n",
        "        final_dict[group]['Total.Uninjured'] += df['Total.Uninjured'][index]\n",
        "        try:\n",
        "            final_dict[group]['Weather.Condition'][df['Weather.Condition'][index]] += 1\n",
        "        except:\n",
        "            final_dict[group]['Weather.Condition'][df['Weather.Condition'][index]] = 1\n",
        "\n",
        "        try:\n",
        "            final_dict[group]['Aircraft.Damage'][df['Aircraft.Damage'][index]] += 1\n",
        "        except:\n",
        "            final_dict[group]['Aircraft.Damage'][df['Aircraft.Damage'][index]] = 1\n",
        "\n",
        "        try:\n",
        "            final_dict[group]['Make'][df['Make'][index].lower()] += 1\n",
        "        except:\n",
        "            final_dict[group]['Make'][df['Make'][index].lower()] = 1\n",
        "            \n",
        "        try:\n",
        "            final_dict[group]['Crash.Country'][df['Crash.Country'][index]] += 1\n",
        "        except:\n",
        "            final_dict[group]['Crash.Country'][df['Crash.Country'][index]] = 1\n",
        "\n",
        "        try:\n",
        "            final_dict[group]['Month'][df['Event.Date'][index].split('-')[1]] += 1\n",
        "        except:\n",
        "            final_dict[group]['Month'][df['Event.Date'][index].split('-')[1]] = 1\n",
        "\n",
        "\n",
        "print(str(final_dict))"
      ],
      "execution_count": null,
      "outputs": []
    },
    {
      "cell_type": "code",
      "metadata": {
        "id": "RhcFhB5yV_aR"
      },
      "source": [
        "import json\n",
        "with open(\"/content/drive/My Drive/aggregated_phase.json\", \"w\") as write_file:\n",
        "    json.dump(final_dict, write_file, indent=4)"
      ],
      "execution_count": null,
      "outputs": []
    },
    {
      "cell_type": "markdown",
      "metadata": {
        "id": "2oRVftC2zPMN"
      },
      "source": [
        "# roba"
      ]
    },
    {
      "cell_type": "code",
      "metadata": {
        "id": "7BPVNryszO3Y"
      },
      "source": [
        "df = pd.read_csv(\"/content/drive/My Drive/AviationCrashLocation.csv\", encoding='ISO-8859-1')\n",
        "\"\"\"not_usa=[\"Zhambyl\",\"Xinjiang\",\"Qinghai\",\"Inner Mongolia\",\"CaquetÃ¡\",\"Lajas\",\"Tibet\",\"Sonora\",\"Dorado\"]\n",
        "porto_rico = [\"Morovis\",\"San Juan\",\"Arecibo\",\"Adjuntas\"]\n",
        "df['Crash.Country'].replace(not_usa, 'Unknown',inplace=True)\n",
        "df['Crash.Country'].replace(porto_rico, 'Puerto Rico', inplace=True)\n",
        "df['Crash.Country'].replace([\"Saint Croix Island\"], 'Virgin Islands of the United States',inplace=True)\n",
        "df['Broad.Phase.of.Flight'].replace(['OTHER'], 'UNKNOWN', inplace=True)\n",
        "\"\"\"\n",
        "import pprint, string\n",
        "\n",
        "translator = str.maketrans(string.punctuation, ' '*len(string.punctuation)) #map punctuation to space\n",
        "listona = sorted(df['Make'].unique())\n",
        "#df[\"Make\"] = df[\"Make\"].apply(lambda x: x.upper())\n",
        "#df[\"Make\"] = df[\"Make\"].apply(lambda x: \"\".join(word for word in x.translate(str.maketrans('', '', string.punctuation)).split(\" \")))\n",
        "df[\"Make\"] = df[\"Make\"].apply(lambda x: x.upper().translate(translator).split(\" \")[0].split(\"-\")[0])\n",
        "\n",
        "for index, row in df.iterrows():\n",
        "    make = row['Make']\n",
        "    for p in listona:\n",
        "        if p.startswith(make):\n",
        "            #print(make,\" inizia con\",p)\n",
        "            df.loc[index, 'Make'] = p\n",
        "            break\n",
        "    #print(str(index) + \" | \" + row['Make'])\n",
        "     \n",
        "    #df['Make'].replace(, 'Unknown',inplace=True)\n",
        "\n",
        "\n",
        "#df = df[df['Make'].map(len) > 3]\n",
        "\n",
        "pprint.pprint(sorted(df['Make'].unique()))\n",
        "pprint.pprint(df['Make'].value_counts())\n",
        "df.to_csv(r'/content/drive/My Drive/AviationCrashLocation_new.csv', index = False)"
      ],
      "execution_count": null,
      "outputs": []
    }
  ]
}
{
  "nbformat": 4,
  "nbformat_minor": 0,
  "metadata": {
    "colab": {
      "name": "Data preprocessing.ipynb",
      "provenance": [],
      "collapsed_sections": [],
      "include_colab_link": true
    },
    "kernelspec": {
      "name": "python3",
      "display_name": "Python 3"
    }
  },
  "cells": [
    {
      "cell_type": "markdown",
      "metadata": {
        "id": "view-in-github",
        "colab_type": "text"
      },
      "source": [
        "<a href=\"https://colab.research.google.com/github/LuigiSigillo/Aviation-accidents-visualizations/blob/main/Data_preprocessing.ipynb\" target=\"_parent\"><img src=\"https://colab.research.google.com/assets/colab-badge.svg\" alt=\"Open In Colab\"/></a>"
      ]
    },
    {
      "cell_type": "markdown",
      "metadata": {
        "id": "qjUjLDVK2dr4"
      },
      "source": [
        "# Data preprocessing"
      ]
    },
    {
      "cell_type": "markdown",
      "metadata": {
        "id": "LW5yq-kz-oQe"
      },
      "source": [
        "before preprocessing"
      ]
    },
    {
      "cell_type": "code",
      "metadata": {
        "id": "4yhhmGZ22Gq6"
      },
      "source": [
        "import sys\r\n",
        "import time\r\n",
        "import os\r\n",
        "import pandas as pd\r\n",
        "from google.colab import drive\r\n",
        "\r\n",
        "drive.mount('/content/drive')\r\n",
        "#!unzip \"/content/drive/My Drive/AviationData.csv.zip\" -d \"/content/drive/My Drive/\"\r\n",
        "\r\n",
        "df = pd.read_csv(\"/content/drive/My Drive/AviationData.csv\", encoding='ISO-8859-1')\r\n",
        "df"
      ],
      "execution_count": null,
      "outputs": []
    },
    {
      "cell_type": "markdown",
      "metadata": {
        "id": "2ca-gMB7fDHC"
      },
      "source": [
        "# After preprocessing"
      ]
    },
    {
      "cell_type": "code",
      "metadata": {
        "id": "63oYr1DBOtEB"
      },
      "source": [
        "import numpy as np\r\n",
        "df = pd.read_csv(\"/content/drive/My Drive/AviationData.csv\", encoding='ISO-8859-1')\r\n",
        "\r\n",
        "#View the dataset\r\n",
        "print(\"1, intero\", df.shape, \"TOT = \", df.shape[0]*df.shape[1])\r\n",
        "\r\n",
        "\r\n",
        "\r\n",
        "df = df.drop(\r\n",
        "    columns=[\"Accident.Number\",\"Airport.Code\",\"Airport.Name\",\"Registration.Number\",\"Engine.Type\",\"FAR.Description\",\"Schedule\",\"Air.Carrier\",\"Report.Status\",\"Publication.Date\"]\r\n",
        ")\r\n",
        "print(\"2, senza colonne inutili\", df.shape, \"TOT = \", df.shape[0]*df.shape[1])\r\n",
        "\r\n",
        "\r\n",
        "\r\n",
        "print(\"__________________________________________\")\r\n",
        "df = df.drop(df[df[\"Investigation.Type\"] == \"Incident\"].index)\r\n",
        "df=df.drop(columns=[\"Investigation.Type\"])\r\n",
        "\r\n",
        "print(\"3, senza incidents\", df.shape, \"TOT = \", df.shape[0]*df.shape[1])\r\n",
        "\r\n",
        "\r\n",
        "\r\n",
        "print(\"__________________________________________\")\r\n",
        "df = df[df[\"Latitude\"].notnull()]\r\n",
        "df = df[df[\"Longitude\"].notnull()]\r\n",
        "\r\n",
        "print(\"4, solo coordinate\", df.shape, \"TOT = \", df.shape[0]*df.shape[1])\r\n",
        "\r\n",
        "\r\n",
        "print(\"__________________________________________\")\r\n",
        "## Da mettere solo quelli con fatal (#num morti) o non fatal\r\n",
        "patternDel = \".*Fatal.*\"\r\n",
        "filter = df[\"Injury.Severity\"].str.contains(patternDel)\r\n",
        "df = df[filter]\r\n",
        "\r\n",
        "print(\"5, solo severity\", df.shape, \"TOT = \", df.shape[0]*df.shape[1])\r\n",
        "\r\n",
        "\r\n",
        "print(\"__________________________________________\")\r\n",
        "df = df[df[\"Aircraft.Damage\"].notnull()]\r\n",
        "print(\"6, solo damage\", df.shape, \"TOT = \", df.shape[0]*df.shape[1])\r\n",
        "df=df.drop(columns=[\"Aircraft.Category\"])\r\n",
        "\r\n",
        "'''\r\n",
        "print(\"__________________________________________\")\r\n",
        "df = df[df[\"Aircraft.Category\"]==\"Airplane\"]\r\n",
        "\r\n",
        "print(\"7, solo airplane\", df.shape, \"TOT = \", df.shape[0]*df.shape[1])\r\n",
        "\r\n",
        "print(\"__________________________________________\")\r\n",
        "df = df[df[\"Amateur.Built\"]==\"No\"]\r\n",
        "\r\n",
        "print(\"8, solo non amatoriali\", df.shape, \"TOT = \", df.shape[0]*df.shape[1])\r\n",
        "'''\r\n",
        "df=df.drop(columns=[\"Amateur.Built\"])\r\n",
        "print(\"__________________________________________\")\r\n",
        "df = df[df[\"Purpose.of.Flight\"].notnull()]\r\n",
        "df = df[df[\"Purpose.of.Flight\"]!=\"Unknown\"]\r\n",
        "print(\"9, solo con purpose\", df.shape, \"TOT = \", df.shape[0]*df.shape[1])\r\n",
        "\r\n",
        "print(\"__________________________________________\")\r\n",
        "df = df.dropna(subset=['Total.Fatal.Injuries','Total.Serious.Injuries'], how='all')\r\n",
        "print(\"10, tutti NAN a casa\", df.shape, \"TOT = \", df.shape[0]*df.shape[1])\r\n",
        "\r\n",
        "\r\n",
        "print(\"__________________________________________\")\r\n",
        "df = df[df[\"Weather.Condition\"].notnull()]\r\n",
        "print(\"11, solo con wether\", df.shape, \"TOT = \", df.shape[0]*df.shape[1])\r\n",
        "\r\n",
        "print(\"__________________________________________\")\r\n",
        "df = df[df[\"Broad.Phase.of.Flight\"].notnull()]\r\n",
        "print(\"12, solo board phase\", df.shape, \"TOT = \", df.shape[0]*df.shape[1])\r\n",
        "\r\n",
        "\r\n",
        "print(\"__________________________________________\")\r\n",
        "df = df[df[\"Number.of.Engines\"].notnull()]\r\n",
        "df=df.drop(columns=[\"Number.of.Engines\"])\r\n",
        "\r\n",
        "print(\"13, solo motore\", df.shape, \"TOT = \", df.shape[0]*df.shape[1])\r\n",
        "\r\n",
        "\r\n",
        "print(\"__________________________________________\")\r\n",
        "df = df[df[\"Model\"].notnull()]\r\n",
        "df = df[df[\"Make\"].notnull()]\r\n",
        "print(\"14, not nan make e model\", df.shape, \"TOT = \", df.shape[0]*(df.shape[1]-3))\r\n",
        "\r\n",
        "\r\n",
        "\r\n",
        "print(\"__________________________________________\")\r\n",
        "df =  df.drop(df[df[\"Country\"] != \"United States\"].index)\r\n",
        "df=df.drop(columns=[\"Country\"])\r\n",
        "print(\"15, only USA\", df.shape, \"TOT = \", df.shape[0]*(df.shape[1]-3))\r\n",
        "\r\n",
        "\r\n",
        "\r\n",
        "df=df.drop(columns=[\"Injury.Severity\"])\r\n",
        "df=df.drop(columns=[\"Model\"])\r\n",
        "df[\"Crash.Location\"] = df[\"Latitude\"].astype(str) + \",\" + df[\"Longitude\"].astype(str) \r\n",
        "df=df.drop(columns=[\"Latitude\"])\r\n",
        "df=df.drop(columns=[\"Longitude\"])\r\n",
        "df['Total.Fatal.Injuries'] = df['Total.Fatal.Injuries'].fillna(0)\r\n",
        "df = df.fillna(0)\r\n",
        "\r\n",
        "\r\n",
        "\"\"\"\r\n",
        "print(\"__________________________________________\")\r\n",
        "df = df.drop(df[df[\"Injury.Severity\"] == \"Non-Fatal\"].index)\r\n",
        "df = df.drop(df[df[\"Injury.Severity\"] == \"Unavailable\"].index)\r\n",
        "print(\"16, solo fatali\", df.shape, \"TOT = \", df.shape[0]*df.shape[1]-3)\r\n",
        "print(df.head())\r\n",
        "\"\"\"\r\n",
        "\"\"\"\r\n",
        "print(\"__________________________________________\")\r\n",
        "df = df.drop(df[df[\"Event.Date\"] < \"2015-01-01\"].index)\r\n",
        "df = df.drop(df[df[\"Injury.Severity\"] == \"Unavailable\"].index)\r\n",
        "print(\"4, dal 2000 in poi\", df.shape, \"TOT = \", df.shape[0]*(df.shape[1]-3))\r\n",
        "print(df.head())\r\n",
        "\"\"\"\r\n",
        "\r\n",
        "\r\n",
        "print(\"TOT = \", df.shape[0]*(df.shape[1]))\r\n",
        "#df.to_csv(r'/content/drive/My Drive/Aviation cleaned.csv', index = False)\r\n",
        "df.describe()\r\n",
        "df"
      ],
      "execution_count": null,
      "outputs": []
    },
    {
      "cell_type": "markdown",
      "metadata": {
        "id": "MEz1Gx4GehBa"
      },
      "source": [
        "# Coordinates to Country"
      ]
    },
    {
      "cell_type": "code",
      "metadata": {
        "id": "4qMneJVbendV"
      },
      "source": [
        "import requests\n",
        "from bs4 import BeautifulSoup\n",
        "apiurl = \"http://api.geonames.org/countrySubdivision?\"\n",
        "#lat=42.561944&lng=-71.77166700000001&username=LENZA\n",
        "lat = \"&lat=\"\n",
        "lng = \"&lng=\"\n",
        "user = \"&username=LENZA\"\n",
        "\n",
        "\n",
        "\n",
        "\n",
        "for index, row in df.iterrows():\n",
        "    latlng = row['Crash.Location']\n",
        "\n",
        "    print(str(index) + \" | \" + row['Crash.Location'])\n",
        "    # index -> indice di riga\n",
        "    # row['Crash.Location'] -> latitudine,longitudine\n",
        "    latitude = latlng.split(\",\")[0]\n",
        "    longitude = latlng.split(\",\")[1]\n",
        "    #print(latitude + \" | \" + longitude)\n",
        "    r = requests.get(apiurl + lat + latitude + lng + longitude + user)\n",
        "    print(r)\n",
        "    soup = BeautifulSoup(r.content, 'html.parser')\n",
        "    #print(soup.prettify())\n",
        "    try:\n",
        "        print(soup.adminname1.string)\n",
        "        df.loc[index, 'Crash.Country'] = soup.adminname1.string\n",
        "    except:\n",
        "        df.loc[index, 'Crash.Country'] = \"Unknown\"\n",
        "    #df[index]['Crash.Country'] = soup.adminname1.string\n",
        "    \n",
        "\n",
        "df\n"
      ],
      "execution_count": null,
      "outputs": []
    },
    {
      "cell_type": "code",
      "metadata": {
        "id": "lnljWrlblvEd"
      },
      "source": [
        "df"
      ],
      "execution_count": null,
      "outputs": []
    },
    {
      "cell_type": "code",
      "metadata": {
        "id": "ldMgCDzSvOlc"
      },
      "source": [
        "print(\"TOT = \", df.shape[0]*(df.shape[1]))\n",
        "df.to_csv(r'/content/drive/My Drive/AviationCrashLocation_new.csv', index = False)\n",
        "df.describe()\n",
        "df"
      ],
      "execution_count": null,
      "outputs": []
    }
  ]
}